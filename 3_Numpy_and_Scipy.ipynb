{
 "metadata": {
  "name": ""
 },
 "nbformat": 3,
 "nbformat_minor": 0,
 "worksheets": [
  {
   "cells": [
    {
     "cell_type": "markdown",
     "metadata": {},
     "source": [
      "# Numpy (<font color='blue'>Num</font>erical <font color='blue'>Py</font>thon) and Scipy (<font color='blue'>Sci</font>entific <font color='blue'>Py</font>thon)"
     ]
    },
    {
     "cell_type": "code",
     "collapsed": false,
     "input": [
      "from IPython.display import Image, HTML\n",
      "from talktools import website ### talktools from Brian E. Granger"
     ],
     "language": "python",
     "metadata": {},
     "outputs": []
    },
    {
     "cell_type": "code",
     "collapsed": false,
     "input": [
      "import numpy as np\n",
      "import matplotlib.pyplot as plt"
     ],
     "language": "python",
     "metadata": {},
     "outputs": []
    },
    {
     "cell_type": "code",
     "collapsed": false,
     "input": [
      "%matplotlib inline"
     ],
     "language": "python",
     "metadata": {},
     "outputs": []
    },
    {
     "cell_type": "code",
     "collapsed": false,
     "input": [
      "#website('http://www.numpy.org/', width=1050)"
     ],
     "language": "python",
     "metadata": {},
     "outputs": []
    },
    {
     "cell_type": "markdown",
     "metadata": {},
     "source": [
      "<hr size=5> \n",
      "# Numpy\n",
      "\n",
      "**Numpy** is the fundamental building block of the so-called **Python Scientific Stack**   \n",
      "\n",
      "* It provides a special data structure, the numpy **ndarray** (*N* - dimensional array) which allows the representation \n",
      "of arrays of numerical values, integers, reals, complex  \n",
      "\n",
      "* Numpy arrays by default can only hold objects of the same type (e.g. cannot mix integers and floats))  \n",
      "\n",
      "* It also provides with random number capability, some convenience simple statistical functions (mean, std, ...) and some essential linear algebra operations "
     ]
    },
    {
     "cell_type": "markdown",
     "metadata": {},
     "source": [
      "## 1. Numpy basics "
     ]
    },
    {
     "cell_type": "markdown",
     "metadata": {},
     "source": [
      "Constructing an numpy array "
     ]
    },
    {
     "cell_type": "code",
     "collapsed": false,
     "input": [
      "x = [1,2,3] # x is a regular python list"
     ],
     "language": "python",
     "metadata": {},
     "outputs": []
    },
    {
     "cell_type": "code",
     "collapsed": false,
     "input": [
      "x = np.array(x)"
     ],
     "language": "python",
     "metadata": {},
     "outputs": []
    },
    {
     "cell_type": "code",
     "collapsed": false,
     "input": [
      "a = np.array(range(10))"
     ],
     "language": "python",
     "metadata": {},
     "outputs": []
    },
    {
     "cell_type": "code",
     "collapsed": false,
     "input": [
      "a"
     ],
     "language": "python",
     "metadata": {},
     "outputs": []
    },
    {
     "cell_type": "code",
     "collapsed": false,
     "input": [
      "x = [[1,2,3],[4,5,6]] # nested lists"
     ],
     "language": "python",
     "metadata": {},
     "outputs": []
    },
    {
     "cell_type": "code",
     "collapsed": false,
     "input": [
      "x = np.array(x)"
     ],
     "language": "python",
     "metadata": {},
     "outputs": []
    },
    {
     "cell_type": "code",
     "collapsed": false,
     "input": [
      "x"
     ],
     "language": "python",
     "metadata": {},
     "outputs": []
    },
    {
     "cell_type": "markdown",
     "metadata": {},
     "source": [
      "The shape attribute is a tuple containing the dimensions along each **axis** (0 = rows, 1 = columns, ...)"
     ]
    },
    {
     "cell_type": "code",
     "collapsed": false,
     "input": [
      "x.shape"
     ],
     "language": "python",
     "metadata": {},
     "outputs": []
    },
    {
     "cell_type": "code",
     "collapsed": false,
     "input": [
      "x = np.arange(1000).reshape((10,10,10))"
     ],
     "language": "python",
     "metadata": {},
     "outputs": []
    },
    {
     "cell_type": "code",
     "collapsed": false,
     "input": [
      "x.shape"
     ],
     "language": "python",
     "metadata": {},
     "outputs": []
    },
    {
     "cell_type": "markdown",
     "metadata": {},
     "source": [
      "** Be careful**: keep in mind **references** Vs. **copies** of arrays!"
     ]
    },
    {
     "cell_type": "code",
     "collapsed": false,
     "input": [
      "a"
     ],
     "language": "python",
     "metadata": {},
     "outputs": []
    },
    {
     "cell_type": "code",
     "collapsed": false,
     "input": [
      "x = a"
     ],
     "language": "python",
     "metadata": {},
     "outputs": []
    },
    {
     "cell_type": "code",
     "collapsed": false,
     "input": [
      "x"
     ],
     "language": "python",
     "metadata": {},
     "outputs": []
    },
    {
     "cell_type": "code",
     "collapsed": false,
     "input": [
      "a[2] = 99"
     ],
     "language": "python",
     "metadata": {},
     "outputs": []
    },
    {
     "cell_type": "code",
     "collapsed": false,
     "input": [
      "a"
     ],
     "language": "python",
     "metadata": {},
     "outputs": []
    },
    {
     "cell_type": "code",
     "collapsed": false,
     "input": [
      "x"
     ],
     "language": "python",
     "metadata": {},
     "outputs": []
    },
    {
     "cell_type": "markdown",
     "metadata": {},
     "source": [
      "**x has changed !**, because x = a only means you create a new **reference** pointing to the **same object** as the array `a`  \n",
      "\n",
      "If you want to create a **copy** instead of a reference, you need to do it explicitely"
     ]
    },
    {
     "cell_type": "code",
     "collapsed": false,
     "input": [
      "x = a.copy()"
     ],
     "language": "python",
     "metadata": {},
     "outputs": []
    },
    {
     "cell_type": "markdown",
     "metadata": {},
     "source": [
      "### Numpy array types "
     ]
    },
    {
     "cell_type": "markdown",
     "metadata": {},
     "source": [
      "Numpy tries and guess the correct **type** of the numerical values if you pass a list, here x is of type integer 64"
     ]
    },
    {
     "cell_type": "code",
     "collapsed": false,
     "input": [
      "x.dtype"
     ],
     "language": "python",
     "metadata": {},
     "outputs": []
    },
    {
     "cell_type": "markdown",
     "metadata": {},
     "source": [
      "You can change that using the method **astype()**"
     ]
    },
    {
     "cell_type": "code",
     "collapsed": false,
     "input": [
      "x = x.astype(np.float)"
     ],
     "language": "python",
     "metadata": {},
     "outputs": []
    },
    {
     "cell_type": "code",
     "collapsed": false,
     "input": [
      "x.dtype"
     ],
     "language": "python",
     "metadata": {},
     "outputs": []
    },
    {
     "cell_type": "code",
     "collapsed": false,
     "input": [
      "x"
     ],
     "language": "python",
     "metadata": {},
     "outputs": []
    },
    {
     "cell_type": "markdown",
     "metadata": {},
     "source": [
      "you cannot mix different types, numpy will cast all values to the safest dtype"
     ]
    },
    {
     "cell_type": "code",
     "collapsed": false,
     "input": [
      "x = np.array([1.0,1,1])"
     ],
     "language": "python",
     "metadata": {},
     "outputs": []
    },
    {
     "cell_type": "code",
     "collapsed": false,
     "input": [
      "x"
     ],
     "language": "python",
     "metadata": {},
     "outputs": []
    },
    {
     "cell_type": "markdown",
     "metadata": {},
     "source": [
      "### Some convenience functions for creating arrays"
     ]
    },
    {
     "cell_type": "markdown",
     "metadata": {},
     "source": [
      "np.arange(*start*, **stop**, *step*, *dtype=None*)"
     ]
    },
    {
     "cell_type": "code",
     "collapsed": false,
     "input": [
      "np.arange(100)"
     ],
     "language": "python",
     "metadata": {},
     "outputs": []
    },
    {
     "cell_type": "code",
     "collapsed": false,
     "input": [
      "np.arange(0,100,10)"
     ],
     "language": "python",
     "metadata": {},
     "outputs": []
    },
    {
     "cell_type": "markdown",
     "metadata": {},
     "source": [
      "np.linspace(start, stop, num=50, *endpoint=True*, *retstep=False*)"
     ]
    },
    {
     "cell_type": "code",
     "collapsed": false,
     "input": [
      "np.linspace(0,0.5,10, endpoint=False)"
     ],
     "language": "python",
     "metadata": {},
     "outputs": []
    },
    {
     "cell_type": "markdown",
     "metadata": {},
     "source": [
      "same as np.arange(0,0.5, 0.05)"
     ]
    },
    {
     "cell_type": "code",
     "collapsed": false,
     "input": [
      "np.arange(0,0.5,0.05)"
     ],
     "language": "python",
     "metadata": {},
     "outputs": []
    },
    {
     "cell_type": "markdown",
     "metadata": {},
     "source": [
      "np.ones(shape, dtype=None, order='C') creates an array of ones, similar function is np.zeros"
     ]
    },
    {
     "cell_type": "markdown",
     "metadata": {},
     "source": [
      "can be used to pre-allocate \"empty\" arrays with small memory footprint "
     ]
    },
    {
     "cell_type": "code",
     "collapsed": false,
     "input": [
      "np.empty((5,5))"
     ],
     "language": "python",
     "metadata": {},
     "outputs": []
    },
    {
     "cell_type": "markdown",
     "metadata": {},
     "source": [
      "<hr size=5> \n",
      "\n",
      "### 2. Array indexing "
     ]
    },
    {
     "cell_type": "markdown",
     "metadata": {},
     "source": [
      "#### 1. Simple indexing"
     ]
    },
    {
     "cell_type": "code",
     "collapsed": false,
     "input": [
      "b = np.arange(25,dtype=float).reshape(5,5) # creating a 2D array, note the dtype"
     ],
     "language": "python",
     "metadata": {},
     "outputs": []
    },
    {
     "cell_type": "code",
     "collapsed": false,
     "input": [
      "print(b)"
     ],
     "language": "python",
     "metadata": {},
     "outputs": []
    },
    {
     "cell_type": "code",
     "collapsed": false,
     "input": [
      "b.shape"
     ],
     "language": "python",
     "metadata": {},
     "outputs": []
    },
    {
     "cell_type": "code",
     "collapsed": false,
     "input": [
      "b[0,1] # FIRST row, SECOND column, remember, Python indexing is zero-based"
     ],
     "language": "python",
     "metadata": {},
     "outputs": []
    },
    {
     "cell_type": "code",
     "collapsed": false,
     "input": [
      "b[:,0] # first column "
     ],
     "language": "python",
     "metadata": {},
     "outputs": []
    },
    {
     "cell_type": "code",
     "collapsed": false,
     "input": [
      "b[1,:] # second row"
     ],
     "language": "python",
     "metadata": {},
     "outputs": []
    },
    {
     "cell_type": "code",
     "collapsed": false,
     "input": [
      "b[:,2:] # all rows from third colum"
     ],
     "language": "python",
     "metadata": {},
     "outputs": []
    },
    {
     "cell_type": "code",
     "collapsed": false,
     "input": [
      "b[-1,:] # last row"
     ],
     "language": "python",
     "metadata": {},
     "outputs": []
    },
    {
     "cell_type": "code",
     "collapsed": false,
     "input": [
      "b[:,::-1] # handy: reverses column order "
     ],
     "language": "python",
     "metadata": {},
     "outputs": []
    },
    {
     "cell_type": "code",
     "collapsed": false,
     "input": [
      "b"
     ],
     "language": "python",
     "metadata": {},
     "outputs": []
    },
    {
     "cell_type": "markdown",
     "metadata": {},
     "source": [
      "slices allows to easily select **contiguous** row / colums"
     ]
    },
    {
     "cell_type": "code",
     "collapsed": false,
     "input": [
      "b[0:2,1:3] # first two columns, and columns 2 to 3"
     ],
     "language": "python",
     "metadata": {},
     "outputs": []
    },
    {
     "cell_type": "markdown",
     "metadata": {},
     "source": [
      "When you want to select **non-contiguous** (or repeated rows) / columns, you have to use the **ix_** construct"
     ]
    },
    {
     "cell_type": "code",
     "collapsed": false,
     "input": [
      "b[np.ix_([0,1,3],[1,1,3])]"
     ],
     "language": "python",
     "metadata": {},
     "outputs": []
    },
    {
     "cell_type": "markdown",
     "metadata": {},
     "source": [
      "#### 2. Boolean or conditional indexing"
     ]
    },
    {
     "cell_type": "code",
     "collapsed": false,
     "input": [
      "b = b[b>10]"
     ],
     "language": "python",
     "metadata": {},
     "outputs": []
    },
    {
     "cell_type": "code",
     "collapsed": false,
     "input": [
      "print(b)"
     ],
     "language": "python",
     "metadata": {},
     "outputs": []
    },
    {
     "cell_type": "markdown",
     "metadata": {},
     "source": [
      "<hr size=5>\n",
      "\n",
      "### Array broadcasting"
     ]
    },
    {
     "cell_type": "markdown",
     "metadata": {},
     "source": [
      "#### 1. Simple possible case: scalar broadcasting"
     ]
    },
    {
     "cell_type": "code",
     "collapsed": false,
     "input": [
      "x = np.array([0,1,2,3]); print(x)"
     ],
     "language": "python",
     "metadata": {},
     "outputs": []
    },
    {
     "cell_type": "code",
     "collapsed": false,
     "input": [
      "x + 3"
     ],
     "language": "python",
     "metadata": {},
     "outputs": []
    },
    {
     "cell_type": "markdown",
     "metadata": {},
     "source": [
      "<center>\n",
      "\n",
      "![](files/images/broadcast_scalar.png)\n",
      "\n",
      "</center>"
     ]
    },
    {
     "cell_type": "markdown",
     "metadata": {},
     "source": [
      "#### 2. 2D broadcasting "
     ]
    },
    {
     "cell_type": "code",
     "collapsed": false,
     "input": [
      "x = np.arange(12).reshape((3,4))"
     ],
     "language": "python",
     "metadata": {},
     "outputs": []
    },
    {
     "cell_type": "code",
     "collapsed": false,
     "input": [
      "x"
     ],
     "language": "python",
     "metadata": {},
     "outputs": []
    },
    {
     "cell_type": "code",
     "collapsed": false,
     "input": [
      "y = np.arange(3).reshape((3,1)); # or y = np.arange(3)[np.newaxis,:] or y = np.arange(3)[None,:]"
     ],
     "language": "python",
     "metadata": {},
     "outputs": []
    },
    {
     "cell_type": "code",
     "collapsed": false,
     "input": [
      "y"
     ],
     "language": "python",
     "metadata": {},
     "outputs": []
    },
    {
     "cell_type": "code",
     "collapsed": false,
     "input": [
      "x + y"
     ],
     "language": "python",
     "metadata": {},
     "outputs": []
    },
    {
     "cell_type": "markdown",
     "metadata": {},
     "source": [
      "<center> \n",
      "\n",
      "![](files/images/broadcast_2D.png)\n",
      "\n",
      "</center>"
     ]
    },
    {
     "cell_type": "markdown",
     "metadata": {},
     "source": [
      "####  3. 3D broadcasting"
     ]
    },
    {
     "cell_type": "code",
     "collapsed": false,
     "input": [
      "x = np.arange(15).reshape((3, 5))"
     ],
     "language": "python",
     "metadata": {},
     "outputs": []
    },
    {
     "cell_type": "code",
     "collapsed": false,
     "input": [
      "x"
     ],
     "language": "python",
     "metadata": {},
     "outputs": []
    },
    {
     "cell_type": "code",
     "collapsed": false,
     "input": [
      "y = np.ones(8)"
     ],
     "language": "python",
     "metadata": {},
     "outputs": []
    },
    {
     "cell_type": "code",
     "collapsed": false,
     "input": [
      "z = x[...,np.newaxis] + y"
     ],
     "language": "python",
     "metadata": {},
     "outputs": []
    },
    {
     "cell_type": "code",
     "collapsed": false,
     "input": [
      "print(z)"
     ],
     "language": "python",
     "metadata": {},
     "outputs": []
    },
    {
     "cell_type": "code",
     "collapsed": false,
     "input": [
      "z.shape"
     ],
     "language": "python",
     "metadata": {},
     "outputs": []
    },
    {
     "cell_type": "markdown",
     "metadata": {},
     "source": [
      "<center> \n",
      "\n",
      "![](files/images/array_3x5x8.png)\n",
      "\n",
      "</center>"
     ]
    },
    {
     "cell_type": "markdown",
     "metadata": {},
     "source": [
      "<hr size=3>\n",
      "\n",
      "### Array methods"
     ]
    },
    {
     "cell_type": "markdown",
     "metadata": {},
     "source": [
      "We have already seen some array methods above, in this section I just dwelve into their general behavior and present some convenient array methods"
     ]
    },
    {
     "cell_type": "markdown",
     "metadata": {},
     "source": [
      "In python, everything is an **object**, numpy ndarrays are no exceptions, and they expose a number of **methods**, which are equivalent to the call \n",
      "the respective numpy function, but can be more convenient to use, and - marginally - faster"
     ]
    },
    {
     "cell_type": "code",
     "collapsed": false,
     "input": [
      "a.shape # shape of a (like *size* in matlab)"
     ],
     "language": "python",
     "metadata": {},
     "outputs": []
    },
    {
     "cell_type": "code",
     "collapsed": false,
     "input": [
      "np.shape(a)"
     ],
     "language": "python",
     "metadata": {},
     "outputs": []
    },
    {
     "cell_type": "code",
     "collapsed": false,
     "input": [
      "%timeit a.mean() # The %timeit magic cell function times the execution of an expression"
     ],
     "language": "python",
     "metadata": {},
     "outputs": []
    },
    {
     "cell_type": "code",
     "collapsed": false,
     "input": [
      "%timeit np.mean(a)"
     ],
     "language": "python",
     "metadata": {},
     "outputs": []
    },
    {
     "cell_type": "code",
     "collapsed": false,
     "input": [
      "b = np.arange(100,dtype=float).reshape(10,10) # creating a 2D array, note the dtype"
     ],
     "language": "python",
     "metadata": {},
     "outputs": []
    },
    {
     "cell_type": "code",
     "collapsed": false,
     "input": [
      "b.shape"
     ],
     "language": "python",
     "metadata": {},
     "outputs": []
    },
    {
     "cell_type": "code",
     "collapsed": false,
     "input": [
      "b"
     ],
     "language": "python",
     "metadata": {},
     "outputs": []
    },
    {
     "cell_type": "code",
     "collapsed": false,
     "input": [
      "b.sum(0) ### summing over the first axis ('rows')"
     ],
     "language": "python",
     "metadata": {},
     "outputs": []
    },
    {
     "cell_type": "code",
     "collapsed": false,
     "input": [
      "np.sum(b, axis=0)"
     ],
     "language": "python",
     "metadata": {},
     "outputs": []
    },
    {
     "cell_type": "code",
     "collapsed": false,
     "input": [
      "b[:,0].sum()"
     ],
     "language": "python",
     "metadata": {},
     "outputs": []
    },
    {
     "cell_type": "markdown",
     "metadata": {},
     "source": [
      "*swapaxes* method swap the position of 2 axes"
     ]
    },
    {
     "cell_type": "code",
     "collapsed": false,
     "input": [
      "b = b.swapaxes(1,0)"
     ],
     "language": "python",
     "metadata": {},
     "outputs": []
    },
    {
     "cell_type": "code",
     "collapsed": false,
     "input": [
      "b"
     ],
     "language": "python",
     "metadata": {},
     "outputs": []
    },
    {
     "cell_type": "markdown",
     "metadata": {},
     "source": [
      "here equivalent to *transpose()* on 2D array"
     ]
    },
    {
     "cell_type": "code",
     "collapsed": false,
     "input": [
      "b = b.transpose()"
     ],
     "language": "python",
     "metadata": {},
     "outputs": []
    },
    {
     "cell_type": "code",
     "collapsed": false,
     "input": [
      "b"
     ],
     "language": "python",
     "metadata": {},
     "outputs": []
    },
    {
     "cell_type": "code",
     "collapsed": false,
     "input": [
      "b = np.transpose(b)"
     ],
     "language": "python",
     "metadata": {},
     "outputs": []
    },
    {
     "cell_type": "code",
     "collapsed": false,
     "input": [
      "b"
     ],
     "language": "python",
     "metadata": {},
     "outputs": []
    },
    {
     "cell_type": "markdown",
     "metadata": {},
     "source": [
      "### *Missing* values in numpy "
     ]
    },
    {
     "cell_type": "markdown",
     "metadata": {},
     "source": [
      "You can handle missing values in Numpy in two different ways: \n",
      "    \n",
      "1. By using the np.nan (not a number) special type\n",
      "2. By casting a numpy array into a **Masked array** using the <font color='red'>ma</font> module\n",
      "\n",
      "Using the masked array approach, while somehow more cumbersome, allows more flexibility"
     ]
    },
    {
     "cell_type": "code",
     "collapsed": false,
     "input": [
      "b[5,5] = -999."
     ],
     "language": "python",
     "metadata": {},
     "outputs": []
    },
    {
     "cell_type": "code",
     "collapsed": false,
     "input": [
      "print(b)"
     ],
     "language": "python",
     "metadata": {},
     "outputs": []
    },
    {
     "cell_type": "code",
     "collapsed": false,
     "input": [
      "c = b.copy()"
     ],
     "language": "python",
     "metadata": {},
     "outputs": []
    },
    {
     "cell_type": "code",
     "collapsed": false,
     "input": [
      "c[c==-999.] = np.nan"
     ],
     "language": "python",
     "metadata": {},
     "outputs": []
    },
    {
     "cell_type": "code",
     "collapsed": false,
     "input": [
      "print(c)"
     ],
     "language": "python",
     "metadata": {},
     "outputs": []
    },
    {
     "cell_type": "markdown",
     "metadata": {},
     "source": [
      "```nan``` values propagates automatically when using *aggregation* functions"
     ]
    },
    {
     "cell_type": "code",
     "collapsed": false,
     "input": [
      "c.mean(1)"
     ],
     "language": "python",
     "metadata": {},
     "outputs": []
    },
    {
     "cell_type": "markdown",
     "metadata": {},
     "source": [
      "Unless you use one of the - few - NaN functions"
     ]
    },
    {
     "cell_type": "code",
     "collapsed": false,
     "input": [
      "np.nansum(c,axis=1)"
     ],
     "language": "python",
     "metadata": {},
     "outputs": []
    },
    {
     "cell_type": "code",
     "collapsed": false,
     "input": [
      "from numpy import ma "
     ],
     "language": "python",
     "metadata": {},
     "outputs": []
    },
    {
     "cell_type": "code",
     "collapsed": false,
     "input": [
      "b = ma.masked_values(b, -999.)"
     ],
     "language": "python",
     "metadata": {},
     "outputs": []
    },
    {
     "cell_type": "code",
     "collapsed": false,
     "input": [
      "print(b)"
     ],
     "language": "python",
     "metadata": {},
     "outputs": []
    },
    {
     "cell_type": "markdown",
     "metadata": {},
     "source": [
      "```b``` has now two new attributes: data, and mask"
     ]
    },
    {
     "cell_type": "code",
     "collapsed": false,
     "input": [
      "print(b.data) "
     ],
     "language": "python",
     "metadata": {},
     "outputs": []
    },
    {
     "cell_type": "code",
     "collapsed": false,
     "input": [
      "print(b.mask)"
     ],
     "language": "python",
     "metadata": {},
     "outputs": []
    },
    {
     "cell_type": "code",
     "collapsed": false,
     "input": [
      "b.mean(1)"
     ],
     "language": "python",
     "metadata": {},
     "outputs": []
    },
    {
     "cell_type": "code",
     "collapsed": false,
     "input": [
      "c = b.mean(1)"
     ],
     "language": "python",
     "metadata": {},
     "outputs": []
    },
    {
     "cell_type": "code",
     "collapsed": false,
     "input": [
      "c.shape"
     ],
     "language": "python",
     "metadata": {},
     "outputs": []
    },
    {
     "cell_type": "markdown",
     "metadata": {},
     "source": [
      "Masked values are just ignored in calculations "
     ]
    },
    {
     "cell_type": "markdown",
     "metadata": {},
     "source": [
      "Other masked array functions allow to set masked values according to some conditions, all (I think) functions exposed for regular numpy arrays are available."
     ]
    },
    {
     "cell_type": "code",
     "collapsed": false,
     "input": [
      "ma."
     ],
     "language": "python",
     "metadata": {},
     "outputs": []
    },
    {
     "cell_type": "code",
     "collapsed": false,
     "input": [
      "b = ma.masked_greater(b, 80)"
     ],
     "language": "python",
     "metadata": {},
     "outputs": []
    },
    {
     "cell_type": "code",
     "collapsed": false,
     "input": [
      "b"
     ],
     "language": "python",
     "metadata": {},
     "outputs": []
    },
    {
     "cell_type": "code",
     "collapsed": false,
     "input": [
      "b.mean(0)"
     ],
     "language": "python",
     "metadata": {},
     "outputs": []
    },
    {
     "cell_type": "markdown",
     "metadata": {},
     "source": [
      "<hr size=5>\n",
      "### Random numbers"
     ]
    },
    {
     "cell_type": "markdown",
     "metadata": {},
     "source": [
      "You can generate random numbers coming from a wide range of distributions\n",
      "\n"
     ]
    },
    {
     "cell_type": "code",
     "collapsed": false,
     "input": [
      "np.random."
     ],
     "language": "python",
     "metadata": {},
     "outputs": []
    },
    {
     "cell_type": "markdown",
     "metadata": {},
     "source": [
      "If you want more distributions, and more flexibility, you need to look into scipy.stats.distributions (see later in the notebook)"
     ]
    },
    {
     "cell_type": "markdown",
     "metadata": {},
     "source": [
      "**Example 1: Normal distribution**   \n",
      "\n",
      "$$P(x) = \\frac{1}{\\sqrt{2\\pi\\sigma^2}}\\exp\\left[-\\frac{(x-\\mu)^2}{2\\sigma^2}\\right]$$\n"
     ]
    },
    {
     "cell_type": "code",
     "collapsed": false,
     "input": [
      "x = np.random.normal(0,1,1000)"
     ],
     "language": "python",
     "metadata": {},
     "outputs": []
    },
    {
     "cell_type": "code",
     "collapsed": false,
     "input": [
      "x = np.random.standard_normal(1000)"
     ],
     "language": "python",
     "metadata": {},
     "outputs": []
    },
    {
     "cell_type": "code",
     "collapsed": false,
     "input": [
      "_ = plt.hist(x, color='0.6',normed=True)"
     ],
     "language": "python",
     "metadata": {},
     "outputs": []
    },
    {
     "cell_type": "markdown",
     "metadata": {},
     "source": [
      "**Example 2: Poisson distribution**    \n",
      "\n",
      "\\begin{equation*}\n",
      "P\\left( x \\right) = \\frac{{e^{ - \\lambda } \\lambda ^x }}{{x!}}\n",
      "\\end{equation*}"
     ]
    },
    {
     "cell_type": "code",
     "collapsed": false,
     "input": [
      "poiss = np.random.poisson(lam=4, size=(10000))"
     ],
     "language": "python",
     "metadata": {},
     "outputs": []
    },
    {
     "cell_type": "code",
     "collapsed": false,
     "input": [
      "#a = np.array([len(np.where(poiss==x)[0]) for x in np.unique(poiss)])"
     ],
     "language": "python",
     "metadata": {},
     "outputs": []
    },
    {
     "cell_type": "code",
     "collapsed": false,
     "input": [
      "a = np.array([sum(poiss==x) for x in np.unique(poiss)])"
     ],
     "language": "python",
     "metadata": {},
     "outputs": []
    },
    {
     "cell_type": "code",
     "collapsed": false,
     "input": [
      "f, ax = plt.subplots()\n",
      "ax.plot(np.unique(poiss), a/10000., '-', color='grey')\n",
      "ax.plot(np.unique(poiss), a/10000., 'o', color='purple', markersize=10)\n",
      "ax.set_title(\"Poisson Empirical PMF, $\\lambda = 4$\", fontsize=20)\n",
      "ax.set_xlim(-1,17)\n",
      "ax.set_ylim(0,0.25)\n",
      "[l.set_fontsize(16) for l in ax.xaxis.get_ticklabels()]\n",
      "[l.set_fontsize(16) for l in ax.yaxis.get_ticklabels()];"
     ],
     "language": "python",
     "metadata": {},
     "outputs": []
    },
    {
     "cell_type": "code",
     "collapsed": false,
     "input": [
      "import math # the math module exposes mathematical functions operating on scalars"
     ],
     "language": "python",
     "metadata": {},
     "outputs": []
    },
    {
     "cell_type": "code",
     "collapsed": false,
     "input": [
      "lam = 4; end = 20 ### lambda is a reserved word in python "
     ],
     "language": "python",
     "metadata": {},
     "outputs": []
    },
    {
     "cell_type": "code",
     "collapsed": false,
     "input": [
      "P = [math.exp(-lam)*lam**x/math.factorial(x) for x in xrange(end)]"
     ],
     "language": "python",
     "metadata": {},
     "outputs": []
    },
    {
     "cell_type": "code",
     "collapsed": false,
     "input": [
      "f, ax = plt.subplots()\n",
      "ax.plot(P, '-', color='grey')\n",
      "ax.plot(P, 'o', color='purple', markersize=10)\n",
      "ax.set_title(\"Poisson PMF, $\\lambda = 4$\", fontsize=20)\n",
      "ax.set_xlim(-1,17)\n",
      "ax.set_ylim(0,0.25)\n",
      "[l.set_fontsize(16) for l in ax.xaxis.get_ticklabels()]\n",
      "[l.set_fontsize(16) for l in ax.yaxis.get_ticklabels()];"
     ],
     "language": "python",
     "metadata": {},
     "outputs": []
    },
    {
     "cell_type": "markdown",
     "metadata": {},
     "source": [
      "From Wikipedia (http://en.wikipedia.org/wiki/Poisson_distribution)\n",
      "\n",
      "\n",
      "<!--![Discrete variable](http://upload.wikimedia.org/wikipedia/commons/1/16/Poisson_pmf.svg)-->\n",
      "![Discrete variable](files/images/poisson_pmf.png)\n"
     ]
    },
    {
     "cell_type": "markdown",
     "metadata": {},
     "source": [
      "<hr size=5>\n",
      "# Scipy"
     ]
    },
    {
     "cell_type": "markdown",
     "metadata": {},
     "source": [
      "**Scipy** can is a library (but can be thought more as a scientific python distribution) that is built on top of Numpy and\n",
      "and provides a large set of standard scientific computing algorithms, in particular: \n",
      "\n",
      "* Special functions ([scipy.special](http://docs.scipy.org/doc/scipy/reference/special.html))\n",
      "* Integration ([scipy.integrate](http://docs.scipy.org/doc/scipy/reference/integrate.html))\n",
      "* Optimization ([scipy.optimize](http://docs.scipy.org/doc/scipy/reference/optimize.html))\n",
      "* Interpolation ([scipy.interpolate](http://docs.scipy.org/doc/scipy/reference/interpolate.html))\n",
      "* Fourier Transforms ([scipy.fftpack](http://docs.scipy.org/doc/scipy/reference/fftpack.html))\n",
      "* Signal Processing ([scipy.signal](http://docs.scipy.org/doc/scipy/reference/signal.html))\n",
      "* Linear Algebra ([scipy.linalg](http://docs.scipy.org/doc/scipy/reference/linalg.html))\n",
      "* Sparse Eigenvalue Problems ([scipy.sparse](http://docs.scipy.org/doc/scipy/reference/sparse.html))\n",
      "* Statistics ([scipy.stats](http://docs.scipy.org/doc/scipy/reference/stats.html))\n",
      "* Multi-dimensional image processing ([scipy.ndimage](http://docs.scipy.org/doc/scipy/reference/ndimage.html))\n",
      "* File IO ([scipy.io](http://docs.scipy.org/doc/scipy/reference/io.html))\n",
      "\n",
      "We'll only have a look at some of these sub-packages, more directly relevant to **analyzing** data\n",
      "   \n",
      "   \n",
      "+ **scipy.stats**: standard continuous and discrete probability distributions (density functions, samplers, ...), various statistical tests, and more descriptive statistics\n",
      "+ **scipy.interpolate**: 1D and 2D interpolation\n"
     ]
    },
    {
     "cell_type": "markdown",
     "metadata": {},
     "source": [
      "### Scipy.stats"
     ]
    },
    {
     "cell_type": "code",
     "collapsed": false,
     "input": [
      "from scipy import stats "
     ],
     "language": "python",
     "metadata": {},
     "outputs": []
    },
    {
     "cell_type": "markdown",
     "metadata": {},
     "source": [
      "#### Distributions and fitting data to distributions with scipy.stats"
     ]
    },
    {
     "cell_type": "code",
     "collapsed": false,
     "input": [
      "stats.distributions."
     ],
     "language": "python",
     "metadata": {},
     "outputs": []
    },
    {
     "cell_type": "code",
     "collapsed": false,
     "input": [
      "# create a (continous) random variable with normal distribution\n",
      "Y = stats.distributions.norm()"
     ],
     "language": "python",
     "metadata": {},
     "outputs": []
    },
    {
     "cell_type": "code",
     "collapsed": false,
     "input": [
      "x = np.linspace(-5,5,100)\n",
      "\n",
      "fig, axes = plt.subplots(3,1, sharex=True, figsize=(10,10))\n",
      "\n",
      "# plot the probability distribution function (PDF)\n",
      "axes[0].plot(x, Y.pdf(x))\n",
      "axes[0].set_title('PDF')\n",
      "\n",
      "# plot the commulative distributin function (CDF)\n",
      "axes[1].plot(x, Y.cdf(x));\n",
      "axes[1].set_title('CDF')\n",
      "\n",
      "# plot histogram of 1000 random realizations of the variable Y ~ N(0,1)\n",
      "axes[2].hist(Y.rvs(size=1000), bins=50);\n",
      "axes[2].set_title('Random Variable');\n"
     ],
     "language": "python",
     "metadata": {},
     "outputs": []
    },
    {
     "cell_type": "markdown",
     "metadata": {},
     "source": [
      "#### Fitting data to a particular distribution\n",
      "\n",
      "\n",
      "An recurring statistical problem is finding estimates of the relevant parameters that correspond to the distribution that best represents our data. In **parametric** inference, we specify *a priori* a suitable distribution, then choose the parameters that best fit the data.\n",
      "\n",
      "We're going to see:\n",
      "\n",
      "* **Method of moments** chooses the parameters so that the sample moments (typically the sample mean and variance) match the theoretical moments of our chosen distribution.\n",
      "* **Maximum likelihood** chooses the parameters to maximize the likelihood, which measures how likely it is to observe our given sample.\n",
      "\n",
      "A real life example: Monthly rainfall amounts at Auckland Airport station"
     ]
    },
    {
     "cell_type": "code",
     "collapsed": false,
     "input": [
      "import pandas as pd"
     ],
     "language": "python",
     "metadata": {},
     "outputs": []
    },
    {
     "cell_type": "code",
     "collapsed": false,
     "input": [
      "data = pd.read_excel('./data/AKL_aero_rain_monthly.xlsx', sheetname='AKL',index_col=['date'], parse_dates=True)"
     ],
     "language": "python",
     "metadata": {},
     "outputs": []
    },
    {
     "cell_type": "code",
     "collapsed": false,
     "input": [
      "data.head()"
     ],
     "language": "python",
     "metadata": {},
     "outputs": []
    },
    {
     "cell_type": "code",
     "collapsed": false,
     "input": [
      "data['rain'].hist(normed=True, bins=20, grid=False)"
     ],
     "language": "python",
     "metadata": {},
     "outputs": []
    },
    {
     "cell_type": "markdown",
     "metadata": {},
     "source": [
      "There are a few possible choices, but one suitable alternative is the **gamma distribution**:\n",
      "\n",
      "<div style=\"font-size: 120%;\">  \n",
      "$$x \\sim \\text{Gamma}(\\alpha, \\beta) = \\frac{\\beta^{\\alpha}x^{\\alpha-1}e^{-\\beta x}}{\\Gamma(\\alpha)}$$\n",
      "</div>"
     ]
    },
    {
     "cell_type": "markdown",
     "metadata": {},
     "source": [
      "**1) Fitting by the method of moments**"
     ]
    },
    {
     "cell_type": "markdown",
     "metadata": {},
     "source": [
      "The ***method of moments*** simply assigns the empirical mean and variance to their theoretical counterparts, so that we can solve for the parameters.\n",
      "\n",
      "So, for the gamma distribution, it turns out that the mean and variance are:\n",
      "\n",
      "<div style=\"font-size: 120%;\">  \n",
      "$$ \\hat{\\mu} = \\bar{X} = \\alpha \\beta $$\n",
      "$$ \\hat{\\sigma}^2 = S^2 = \\alpha \\beta^2 $$\n",
      "</div>"
     ]
    },
    {
     "cell_type": "markdown",
     "metadata": {},
     "source": [
      "So, if we solve for these parameters, we can use a gamma distribution to describe our data:\n",
      "\n",
      "<div style=\"font-size: 120%;\">  \n",
      "$$ \\alpha = \\frac{\\bar{X}^2}{S^2}, \\, \\beta = \\frac{S^2}{\\bar{X}} $$\n",
      "</div>"
     ]
    },
    {
     "cell_type": "markdown",
     "metadata": {},
     "source": [
      "first step: we calculate the *sample* mean and variance, using pandas convenience methods "
     ]
    },
    {
     "cell_type": "code",
     "collapsed": false,
     "input": [
      "precip_mean = data['rain'].mean() # sample mean \n",
      "precip_var = data['rain'].var() # sample variance"
     ],
     "language": "python",
     "metadata": {},
     "outputs": []
    },
    {
     "cell_type": "markdown",
     "metadata": {},
     "source": [
      "second step: we calculate the parameters $\\alpha$ and $\\beta$ using the relations above"
     ]
    },
    {
     "cell_type": "code",
     "collapsed": false,
     "input": [
      "alpha_rain = precip_mean ** 2 / precip_var\n",
      "beta_rain = precip_var / precip_mean"
     ],
     "language": "python",
     "metadata": {},
     "outputs": []
    },
    {
     "cell_type": "code",
     "collapsed": false,
     "input": [
      "from scipy.stats.distributions import gamma "
     ],
     "language": "python",
     "metadata": {},
     "outputs": []
    },
    {
     "cell_type": "code",
     "collapsed": false,
     "input": [
      "plt.hist(data['rain'], normed=True, bins=20)\n",
      "plt.plot(np.linspace(0, 300, 100), gamma.pdf(np.linspace(0, 300, 100), alpha_rain, scale=beta_rain), lw=3)\n",
      "plt.grid('off')"
     ],
     "language": "python",
     "metadata": {},
     "outputs": []
    },
    {
     "cell_type": "markdown",
     "metadata": {},
     "source": [
      "Goodness of fit tests are available in scipy.stats, through e.g. \n",
      "\n",
      "+ the Kolmogorov-Smirnoff test (`scipy.stats.kstest`)\n",
      "+ the Anderson-Darling test (`scipy.stats.anderson`)"
     ]
    },
    {
     "cell_type": "markdown",
     "metadata": {},
     "source": [
      "**2) Maximum Likelihood Estimates using the .fit() method**"
     ]
    },
    {
     "cell_type": "code",
     "collapsed": false,
     "input": [
      "a,b,c = gamma.fit(data['rain'].values)"
     ],
     "language": "python",
     "metadata": {},
     "outputs": []
    },
    {
     "cell_type": "code",
     "collapsed": false,
     "input": [
      "gfit = gamma(a, b, c)"
     ],
     "language": "python",
     "metadata": {},
     "outputs": []
    },
    {
     "cell_type": "code",
     "collapsed": false,
     "input": [
      "gfit."
     ],
     "language": "python",
     "metadata": {},
     "outputs": []
    },
    {
     "cell_type": "code",
     "collapsed": false,
     "input": [
      "f, ax = plt.subplots(1,2,figsize=(13,5))\n",
      "ax[0].plot(np.linspace(0, 300, 100), gfit.pdf(np.linspace(0, 300, 100)), lw=3)\n",
      "ax[1].plot(np.linspace(0, 300, 100), gfit.cdf(np.linspace(0, 300, 100)), lw=3)"
     ],
     "language": "python",
     "metadata": {},
     "outputs": []
    },
    {
     "cell_type": "markdown",
     "metadata": {},
     "source": [
      "#### Statistical tests "
     ]
    },
    {
     "cell_type": "code",
     "collapsed": false,
     "input": [
      "X = stats.norm(loc=5, scale=5)\n",
      "Y = stats.norm(loc=2, scale=5)\n",
      "\n",
      "Xrvs = X.rvs(size=(1000))\n",
      "Yrvs = Y.rvs(size=(1000))"
     ],
     "language": "python",
     "metadata": {},
     "outputs": []
    },
    {
     "cell_type": "code",
     "collapsed": false,
     "input": [
      "f, ax = plt.subplots(figsize=(6,5))\n",
      "ax.hist(Xrvs,histtype='stepfilled', color='coral', alpha=.6, label=r'$\\mu = 5$')\n",
      "ax.hist(Yrvs,histtype='stepfilled', color='steelblue', alpha=.6, label=r'$\\mu = 2$')\n",
      "ax.grid(color='b',alpha=.6)\n",
      "ax.legend();"
     ],
     "language": "python",
     "metadata": {},
     "outputs": []
    },
    {
     "cell_type": "code",
     "collapsed": false,
     "input": [
      "t, p = stats.ttest_ind(Xrvs, Yrvs)\n",
      "print(\"\"\"\\n===========================\n",
      "T statistics = %s ~= %4.2f\n",
      "P-value = %s ~= %4.2f\n",
      "===========================\n",
      "\"\"\" % (t, t, p, p))"
     ],
     "language": "python",
     "metadata": {},
     "outputs": []
    },
    {
     "cell_type": "markdown",
     "metadata": {},
     "source": [
      "#### Correlation (Pearson's R)"
     ]
    },
    {
     "cell_type": "code",
     "collapsed": false,
     "input": [
      "from scipy.stats import pearsonr"
     ],
     "language": "python",
     "metadata": {},
     "outputs": []
    },
    {
     "cell_type": "markdown",
     "metadata": {},
     "source": [
      "We're gonna apply that to Time-Series of NINO3.4 and the SOI \n",
      "\n",
      "The NINO indices come from [http://www.cpc.ncep.noaa.gov/data/indices/ersst3b.nino.mth.81-10.ascii](http://www.cpc.ncep.noaa.gov/data/indices/ersst3b.nino.mth.81-10.ascii)\n",
      "\n",
      "The SOI is in the `data` directory"
     ]
    },
    {
     "cell_type": "code",
     "collapsed": false,
     "input": [
      "import os\n",
      "from datetime import datetime\n",
      "from dateutil import parser\n",
      "import pandas as pd"
     ],
     "language": "python",
     "metadata": {},
     "outputs": []
    },
    {
     "cell_type": "code",
     "collapsed": false,
     "input": [
      "nino_url = \"http://www.cpc.ncep.noaa.gov/data/indices/ersst3b.nino.mth.81-10.ascii\""
     ],
     "language": "python",
     "metadata": {},
     "outputs": []
    },
    {
     "cell_type": "code",
     "collapsed": false,
     "input": [
      "# if not working try: \n",
      "# nino = pd.read_table('./data/ersst3b.nino.mth.81-10.ascii', sep='\\s*')\n",
      "nino = pd.read_table(nino_url, sep='\\s*')\n",
      "dates = [datetime(x[0], x[1], 1) for x in zip(nino['YR'].values, nino['MON'].values)]\n",
      "nino.index = dates"
     ],
     "language": "python",
     "metadata": {},
     "outputs": []
    },
    {
     "cell_type": "code",
     "collapsed": false,
     "input": [
      "nino.head()"
     ],
     "language": "python",
     "metadata": {},
     "outputs": []
    },
    {
     "cell_type": "code",
     "collapsed": false,
     "input": [
      "soipath = './data'\n",
      "def get_SOI(soipath, start_date='1950-01-01'):\n",
      "    soi = pd.read_csv(os.path.join(soipath,'NIWA_SOI.csv'), index_col=0)\n",
      "    soi = soi.stack()\n",
      "    soi = soi.dropna()\n",
      "    dates = [parser.parse(\"%s-%s-%s\" % (str(int(x[0])), x[1], \"1\")) for x in soi.index]\n",
      "    soidf = pd.DataFrame(soi.values, index=dates, columns=['SOI'])\n",
      "    soidf = soidf.truncate(before=start_date)\n",
      "    return soidf"
     ],
     "language": "python",
     "metadata": {},
     "outputs": []
    },
    {
     "cell_type": "code",
     "collapsed": false,
     "input": [
      "soi = get_SOI(soipath)"
     ],
     "language": "python",
     "metadata": {},
     "outputs": []
    },
    {
     "cell_type": "code",
     "collapsed": false,
     "input": [
      "soi.tail()"
     ],
     "language": "python",
     "metadata": {},
     "outputs": []
    },
    {
     "cell_type": "code",
     "collapsed": false,
     "input": [
      "r, p = pearsonr(soi['SOI'], nino['ANOM.3'])\n",
      "\n",
      "print(\"R = {0:<4.2f}, p-value = {1:<4.2f}\".format(r,p))"
     ],
     "language": "python",
     "metadata": {},
     "outputs": []
    },
    {
     "cell_type": "markdown",
     "metadata": {},
     "source": [
      "### Interpolation (1D and 2D) "
     ]
    },
    {
     "cell_type": "markdown",
     "metadata": {},
     "source": [
      "There are several interfaces for performing 1D, 2D or N Dimensional interpolation using scipy.\n",
      "\n",
      "For more on that I refer you to \n",
      "\n",
      "+ [http://docs.scipy.org/doc/scipy/reference/interpolate.html](http://docs.scipy.org/doc/scipy/reference/interpolate.html)\n",
      "+ [http://wiki.scipy.org/Cookbook/Interpolation](http://wiki.scipy.org/Cookbook/Interpolation)\n",
      "\n",
      "Here we're going to see one simple example in 1D and 2D using [Radial Basis Functions](http://en.wikipedia.org/wiki/Radial_basis_function) using the default (Multiquadric)"
     ]
    },
    {
     "cell_type": "markdown",
     "metadata": {},
     "source": [
      "#### 1D interpolation"
     ]
    },
    {
     "cell_type": "code",
     "collapsed": false,
     "input": [
      "from scipy.interpolate import interp1d"
     ],
     "language": "python",
     "metadata": {},
     "outputs": []
    },
    {
     "cell_type": "code",
     "collapsed": false,
     "input": [
      "x = np.linspace(0, 10, 10)\n",
      "y = np.sin(x)"
     ],
     "language": "python",
     "metadata": {},
     "outputs": []
    },
    {
     "cell_type": "code",
     "collapsed": false,
     "input": [
      "plt.plot(x,y,'ro')"
     ],
     "language": "python",
     "metadata": {},
     "outputs": []
    },
    {
     "cell_type": "code",
     "collapsed": false,
     "input": [
      "f1 = interp1d(x, y) # default is linear"
     ],
     "language": "python",
     "metadata": {},
     "outputs": []
    },
    {
     "cell_type": "code",
     "collapsed": false,
     "input": [
      "f2 = interp1d(x, y, kind='cubic') # and we're gonna try cubic interpolation for comparison"
     ],
     "language": "python",
     "metadata": {},
     "outputs": []
    },
    {
     "cell_type": "code",
     "collapsed": false,
     "input": [
      "xnew = np.linspace(0, 10, 50)"
     ],
     "language": "python",
     "metadata": {},
     "outputs": []
    },
    {
     "cell_type": "code",
     "collapsed": false,
     "input": [
      "ylin = f1(xnew)\n",
      "ycub = f2(xnew)"
     ],
     "language": "python",
     "metadata": {},
     "outputs": []
    },
    {
     "cell_type": "code",
     "collapsed": false,
     "input": [
      "%matplotlib osx"
     ],
     "language": "python",
     "metadata": {},
     "outputs": []
    },
    {
     "cell_type": "code",
     "collapsed": false,
     "input": [
      "f, ax = plt.subplots(figsize=(12,8))\n",
      "ax.plot(xnew, ylin, 'b.', ms=8, label='linear')\n",
      "ax.plot(xnew, ycub, 'gx-', ms=10, label='cubic')\n",
      "ax.plot(x,y,'o-', c='coral', label='data')\n",
      "ax.legend(loc='lower left')"
     ],
     "language": "python",
     "metadata": {},
     "outputs": []
    },
    {
     "cell_type": "code",
     "collapsed": false,
     "input": [
      "%matplotlib inline"
     ],
     "language": "python",
     "metadata": {},
     "outputs": []
    },
    {
     "cell_type": "markdown",
     "metadata": {},
     "source": [
      "### 2D interpolation using Radial Basis Functions"
     ]
    },
    {
     "cell_type": "code",
     "collapsed": false,
     "input": [
      "from scipy.interpolate import Rbf"
     ],
     "language": "python",
     "metadata": {},
     "outputs": []
    },
    {
     "cell_type": "code",
     "collapsed": false,
     "input": [
      "x = np.random.uniform(-2., 2., 100)\n",
      "y = np.random.uniform(-2., 2., 100)\n",
      "\n",
      "z = x*np.exp(-x**2-y**2)\n",
      "\n",
      "ti = np.linspace(-2.0, 2.0, 100)\n",
      "\n",
      "XI, YI = np.meshgrid(ti, ti) # meshgrid creates uniform 2D grids from 1D vectors\n",
      "\n",
      "# use RBF\n",
      "rbf = Rbf(x, y, z) # instantiates the interpolator\n",
      "# you might want to play with the epsilon optional parameter, e.g. \n",
      "# rbf = Rbf(x, y, z, epsilon=2)\n",
      "ZI = rbf(XI, YI) # interpolate on grid"
     ],
     "language": "python",
     "metadata": {},
     "outputs": []
    },
    {
     "cell_type": "code",
     "collapsed": false,
     "input": [
      "Rbf("
     ],
     "language": "python",
     "metadata": {},
     "outputs": []
    },
    {
     "cell_type": "code",
     "collapsed": false,
     "input": [
      "# plot the result\n",
      "f, ax = plt.subplots(figsize=(7,8))\n",
      "im = ax.pcolor(XI, YI, ZI, cmap=plt.get_cmap('RdBu_r'))\n",
      "ax.scatter(x, y, 50, z, cmap=plt.get_cmap('RdBu_r'), edgecolor='.5')\n",
      "ax.set_title('RBF interpolation - multiquadrics')\n",
      "ax.set_xlim(-2, 2)\n",
      "ax.set_ylim(-2, 2)\n",
      "plt.colorbar(im, orientation='horizontal', pad=0.06); "
     ],
     "language": "python",
     "metadata": {},
     "outputs": []
    },
    {
     "cell_type": "markdown",
     "metadata": {},
     "source": [
      "### Curve fitting"
     ]
    },
    {
     "cell_type": "code",
     "collapsed": false,
     "input": [
      "from scipy.optimize import curve_fit"
     ],
     "language": "python",
     "metadata": {},
     "outputs": []
    },
    {
     "cell_type": "code",
     "collapsed": false,
     "input": [
      "def fitFunc(t, a, b, c):\n",
      "    \"\"\" \n",
      "    defines the function\n",
      "    \"\"\"\n",
      "    return a*np.exp(-b*t) + c"
     ],
     "language": "python",
     "metadata": {},
     "outputs": []
    },
    {
     "cell_type": "code",
     "collapsed": false,
     "input": [
      "### defines the evaluation domain\n",
      "t = np.linspace(0,4,50)\n",
      "\n",
      "### defines the paramaters \n",
      "a = 5.0\n",
      "b = 1.5\n",
      "c = 0.5\n",
      "\n",
      "### create the response\n",
      "temp = fitFunc(t, a, b, c)\n",
      "\n",
      "### add some noise to simulate \"real world observations\"\n",
      "noisy = temp + 0.25*np.random.normal(size=len(temp)) # add some noise\n",
      "\n",
      "### \n",
      "fitParams, fitCovariances = curve_fit(fitFunc, t, noisy)\n",
      "\n",
      "afit, bfit, cfit = tuple(fitParams)\n",
      "\n",
      "print(\"\\nEstimated parameters\\na: {:0}, b: {:1}, c: {:2}\\n\\n\".format(afit, bfit, cfit))"
     ],
     "language": "python",
     "metadata": {},
     "outputs": []
    },
    {
     "cell_type": "code",
     "collapsed": false,
     "input": [
      "f, ax = plt.subplots(figsize=(8,8))\n",
      "ax.set_ylabel('Temperature (C)', fontsize = 16)\n",
      "ax.set_xlabel('time (s)', fontsize = 16)\n",
      "ax.set_xlim(0,4.1)\n",
      "# plot the data as red circles with vertical errorbars\n",
      "ax.errorbar(t, noisy, fmt = 'ro', yerr = 0.2)\n",
      "# now plot the best fit curve \n",
      "\n",
      "ax.plot(t, fitFunc(t, fitParams[0], fitParams[1], fitParams[2]),'k-')\n",
      "\n",
      "# and plot the +- 1 sigma curves\n",
      "# (the square root of the diagonal covariance matrix  \n",
      "# element is the uncertainty on the fit parameter.)\n",
      "\n",
      "sigma = [np.sqrt(fitCovariances[0,0]), \\\n",
      "         np.sqrt(fitCovariances[1,1]), \\\n",
      "         np.sqrt(fitCovariances[2,2]) ]\n",
      "\n",
      "ax.plot(t, fitFunc(t, fitParams[0] + sigma[0], fitParams[1] - sigma[1], fitParams[2] + sigma[2]), 'b--')\n",
      "ax.plot(t, fitFunc(t, fitParams[0] - sigma[0], fitParams[1] + sigma[1], fitParams[2] - sigma[2]), 'b--');"
     ],
     "language": "python",
     "metadata": {},
     "outputs": []
    },
    {
     "cell_type": "markdown",
     "metadata": {},
     "source": [
      "### Getting data in and out of Python"
     ]
    },
    {
     "cell_type": "markdown",
     "metadata": {},
     "source": [
      "Python itself has a very good support for IO and dealing with ascii files \n",
      "\n",
      "    f = open('filename','r') \n",
      "    out = f.readlines() \n",
      "    f.close() \n",
      "    "
     ]
    },
    {
     "cell_type": "code",
     "collapsed": false,
     "input": [
      "f = open('./data/ascii_table.txt', 'r')"
     ],
     "language": "python",
     "metadata": {},
     "outputs": []
    },
    {
     "cell_type": "code",
     "collapsed": false,
     "input": [
      "out = f.readlines()"
     ],
     "language": "python",
     "metadata": {},
     "outputs": []
    },
    {
     "cell_type": "code",
     "collapsed": false,
     "input": [
      "f.close()"
     ],
     "language": "python",
     "metadata": {},
     "outputs": []
    },
    {
     "cell_type": "code",
     "collapsed": false,
     "input": [
      "out"
     ],
     "language": "python",
     "metadata": {},
     "outputs": []
    },
    {
     "cell_type": "code",
     "collapsed": false,
     "input": [
      "out = [map(np.int, x.split()) for x in out]"
     ],
     "language": "python",
     "metadata": {},
     "outputs": []
    },
    {
     "cell_type": "code",
     "collapsed": false,
     "input": [
      "map("
     ],
     "language": "python",
     "metadata": {},
     "outputs": []
    },
    {
     "cell_type": "code",
     "collapsed": false,
     "input": [
      "out"
     ],
     "language": "python",
     "metadata": {},
     "outputs": []
    },
    {
     "cell_type": "code",
     "collapsed": false,
     "input": [
      "out = np.array(out)"
     ],
     "language": "python",
     "metadata": {},
     "outputs": []
    },
    {
     "cell_type": "code",
     "collapsed": false,
     "input": [
      "print(out)"
     ],
     "language": "python",
     "metadata": {},
     "outputs": []
    },
    {
     "cell_type": "code",
     "collapsed": false,
     "input": [
      "out.shape"
     ],
     "language": "python",
     "metadata": {},
     "outputs": []
    },
    {
     "cell_type": "code",
     "collapsed": false,
     "input": [],
     "language": "python",
     "metadata": {},
     "outputs": []
    },
    {
     "cell_type": "markdown",
     "metadata": {},
     "source": [
      "#### text (tab or space delimited) ASCII "
     ]
    },
    {
     "cell_type": "code",
     "collapsed": false,
     "input": [
      "a = np.genfromtxt('./data/ascii_table.txt', dtype=int) # can handle missing values "
     ],
     "language": "python",
     "metadata": {},
     "outputs": []
    },
    {
     "cell_type": "code",
     "collapsed": false,
     "input": [
      "np.genfromtxt("
     ],
     "language": "python",
     "metadata": {},
     "outputs": []
    },
    {
     "cell_type": "code",
     "collapsed": false,
     "input": [
      "a"
     ],
     "language": "python",
     "metadata": {},
     "outputs": []
    },
    {
     "cell_type": "code",
     "collapsed": false,
     "input": [
      "#np.loadtxt() ### each row must have the same number of values"
     ],
     "language": "python",
     "metadata": {},
     "outputs": []
    },
    {
     "cell_type": "code",
     "collapsed": false,
     "input": [
      "a = np.loadtxt('./data/ascii_table.txt', dtype=np.int)"
     ],
     "language": "python",
     "metadata": {},
     "outputs": []
    },
    {
     "cell_type": "code",
     "collapsed": false,
     "input": [
      "a"
     ],
     "language": "python",
     "metadata": {},
     "outputs": []
    },
    {
     "cell_type": "markdown",
     "metadata": {},
     "source": [
      "**NOTE**: For reading all csv, tabular format files including xls, xlsx, etc. the most convenient way is to use the special IO functions of [Pandas](http://pandas.pydata.org), which we have seen for the SOI / NINO example, and see in more details in the next notebook. All these functions will load these formats directly into Pandas DataFrames, which are a very convenient data structure for interacting with spreadsheet-like data."
     ]
    },
    {
     "cell_type": "markdown",
     "metadata": {},
     "source": [
      "#### NetCDF "
     ]
    },
    {
     "cell_type": "markdown",
     "metadata": {},
     "source": [
      "NetCDF stands for [Network Common Data form](http://www.unidata.ucar.edu/software/netcdf/), it is used largely in the atmosphere and ocean sciences to store *gridded* datasets."
     ]
    },
    {
     "cell_type": "markdown",
     "metadata": {},
     "source": [
      "There is one set of functions that comes with Scipy which is available from the IO module, with which you can read and create NetCDF files easily."
     ]
    },
    {
     "cell_type": "code",
     "collapsed": false,
     "input": [
      "from scipy.io.netcdf import NetCDFFile"
     ],
     "language": "python",
     "metadata": {},
     "outputs": []
    },
    {
     "cell_type": "markdown",
     "metadata": {},
     "source": [
      "Here we are reading SSTs (for the Southern Hemisphere) from the Hadley SST (available [here]())"
     ]
    },
    {
     "cell_type": "code",
     "collapsed": false,
     "input": [
      "nc = NetCDFFile('data/Hadley_SST.nc', 'r')"
     ],
     "language": "python",
     "metadata": {},
     "outputs": []
    },
    {
     "cell_type": "code",
     "collapsed": false,
     "input": [
      "nc.variables.keys()"
     ],
     "language": "python",
     "metadata": {},
     "outputs": []
    },
    {
     "cell_type": "code",
     "collapsed": false,
     "input": [
      "lat = nc.variables['lat'][:]\n",
      "lon = nc.variables['lon'][:]"
     ],
     "language": "python",
     "metadata": {},
     "outputs": []
    },
    {
     "cell_type": "code",
     "collapsed": false,
     "input": [
      "sst = nc.variables['sst'][:]"
     ],
     "language": "python",
     "metadata": {},
     "outputs": []
    },
    {
     "cell_type": "code",
     "collapsed": false,
     "input": [
      "mval = nc.variables['sst'].missing_value"
     ],
     "language": "python",
     "metadata": {},
     "outputs": []
    },
    {
     "cell_type": "code",
     "collapsed": false,
     "input": [
      "nc.close() # don't forget to close"
     ],
     "language": "python",
     "metadata": {},
     "outputs": []
    },
    {
     "cell_type": "code",
     "collapsed": false,
     "input": [
      "mval"
     ],
     "language": "python",
     "metadata": {},
     "outputs": []
    },
    {
     "cell_type": "code",
     "collapsed": false,
     "input": [
      "sst.shape"
     ],
     "language": "python",
     "metadata": {},
     "outputs": []
    },
    {
     "cell_type": "code",
     "collapsed": false,
     "input": [
      "sst = ma.masked_values(sst, mval)"
     ],
     "language": "python",
     "metadata": {},
     "outputs": []
    },
    {
     "cell_type": "code",
     "collapsed": false,
     "input": [
      "f, ax = plt.subplots(figsize=(12,6))\n",
      "im = ax.imshow(sst[0,:,:], interpolation='nearest', aspect='auto')\n",
      "ax.set_title('SSTs')\n",
      "cb = plt.colorbar(im);\n",
      "cb.set_label(u'\\xb0C', rotation=0)\n"
     ],
     "language": "python",
     "metadata": {},
     "outputs": []
    },
    {
     "cell_type": "markdown",
     "metadata": {},
     "source": [
      "And the [netCDF4](http://netcdf4-python.googlecode.com/svn/trunk/docs/netCDF4-module.html) standalone module, which is installed as part of the Anaconda distribution, and has more functionalities, including: \n",
      "\n",
      "+ support of NetCDF 4 (and NetCDF 3).\n",
      "+ support for reading multiple files datasets as a single dataset.\n",
      "+ can create files that are readable by HDF5 clients."
     ]
    },
    {
     "cell_type": "code",
     "collapsed": false,
     "input": [
      "from netCDF4 import Dataset"
     ],
     "language": "python",
     "metadata": {},
     "outputs": []
    },
    {
     "cell_type": "code",
     "collapsed": false,
     "input": [
      "nc = Dataset('data/Hadley_SST.nc', 'r')"
     ],
     "language": "python",
     "metadata": {},
     "outputs": []
    },
    {
     "cell_type": "code",
     "collapsed": false,
     "input": [
      "sst = nc.variables['sst'][:]; from numpy import ma"
     ],
     "language": "python",
     "metadata": {},
     "outputs": []
    },
    {
     "cell_type": "code",
     "collapsed": false,
     "input": [
      "sst = ma.masked_values(sst, mval)"
     ],
     "language": "python",
     "metadata": {},
     "outputs": []
    },
    {
     "cell_type": "code",
     "collapsed": false,
     "input": [
      "nc.close()"
     ],
     "language": "python",
     "metadata": {},
     "outputs": []
    },
    {
     "cell_type": "code",
     "collapsed": false,
     "input": [
      "f, ax = plt.subplots(figsize=(12,6))\n",
      "im = ax.imshow(sst[0,:,:], interpolation='nearest', aspect='auto')\n",
      "ax.set_title('SSTs')\n",
      "cb = plt.colorbar(im);\n",
      "cb.set_label(u'\\xb0C', rotation=0)"
     ],
     "language": "python",
     "metadata": {},
     "outputs": []
    },
    {
     "cell_type": "markdown",
     "metadata": {},
     "source": [
      "A more recent project is the IRIS module, developped by the Met. Office in the UK: \n",
      "    \n",
      "[http://scitools.org.uk/iris/index.html](http://scitools.org.uk/iris/index.html)"
     ]
    },
    {
     "cell_type": "markdown",
     "metadata": {},
     "source": [
      "#### Matlab files"
     ]
    },
    {
     "cell_type": "code",
     "collapsed": false,
     "input": [
      "from scipy.io.matlab import loadmat, savemat, whosmat "
     ],
     "language": "python",
     "metadata": {},
     "outputs": []
    },
    {
     "cell_type": "markdown",
     "metadata": {},
     "source": [
      "We first create a matlab file containing one variable"
     ]
    },
    {
     "cell_type": "code",
     "collapsed": false,
     "input": [
      "x = np.random.randn(10,10)"
     ],
     "language": "python",
     "metadata": {},
     "outputs": []
    },
    {
     "cell_type": "code",
     "collapsed": false,
     "input": [
      "savemat('data/random_2darray.mat', {'xmat':x})"
     ],
     "language": "python",
     "metadata": {},
     "outputs": []
    },
    {
     "cell_type": "markdown",
     "metadata": {},
     "source": [
      "Then inspect its content with `whosmat`"
     ]
    },
    {
     "cell_type": "code",
     "collapsed": false,
     "input": [
      "whosmat('data/random_2darray.mat')"
     ],
     "language": "python",
     "metadata": {},
     "outputs": []
    },
    {
     "cell_type": "markdown",
     "metadata": {},
     "source": [
      "And read it, accessing the saved variable as a numpy arrray using a dict type syntax"
     ]
    },
    {
     "cell_type": "code",
     "collapsed": false,
     "input": [
      "matfile = loadmat('data/random_2darray.mat')"
     ],
     "language": "python",
     "metadata": {},
     "outputs": []
    },
    {
     "cell_type": "code",
     "collapsed": false,
     "input": [
      "x = matfile['xmat'] # like a dictionnary"
     ],
     "language": "python",
     "metadata": {},
     "outputs": []
    },
    {
     "cell_type": "markdown",
     "metadata": {},
     "source": [
      "For matlab files containing matlab **structures**, the syntax is marginally more complicated "
     ]
    },
    {
     "cell_type": "code",
     "collapsed": false,
     "input": [
      "whosmat('./data/clusters_monthly.mat')"
     ],
     "language": "python",
     "metadata": {},
     "outputs": []
    },
    {
     "cell_type": "code",
     "collapsed": false,
     "input": [
      "matfile = loadmat('./data/clusters_monthly.mat', struct_as_record=False)"
     ],
     "language": "python",
     "metadata": {},
     "outputs": []
    },
    {
     "cell_type": "code",
     "collapsed": false,
     "input": [
      "matfile.keys()"
     ],
     "language": "python",
     "metadata": {},
     "outputs": []
    },
    {
     "cell_type": "code",
     "collapsed": false,
     "input": [
      "clusm = matfile['clusm'][0][0] ### corresponds to the (1,1) shape as indicated by whosmat"
     ],
     "language": "python",
     "metadata": {},
     "outputs": []
    },
    {
     "cell_type": "code",
     "collapsed": false,
     "input": [
      "type(clusm)"
     ],
     "language": "python",
     "metadata": {},
     "outputs": []
    },
    {
     "cell_type": "code",
     "collapsed": false,
     "input": [
      "### inspect the attributes of clusm\n",
      "dir(clusm)"
     ],
     "language": "python",
     "metadata": {},
     "outputs": []
    },
    {
     "cell_type": "code",
     "collapsed": false,
     "input": [
      "clusm._fieldnames"
     ],
     "language": "python",
     "metadata": {},
     "outputs": []
    },
    {
     "cell_type": "code",
     "collapsed": false,
     "input": [
      "clusm.time"
     ],
     "language": "python",
     "metadata": {},
     "outputs": []
    },
    {
     "cell_type": "code",
     "collapsed": false,
     "input": [
      "data = clusm.data"
     ],
     "language": "python",
     "metadata": {},
     "outputs": []
    },
    {
     "cell_type": "code",
     "collapsed": false,
     "input": [
      "data[0,:]"
     ],
     "language": "python",
     "metadata": {},
     "outputs": []
    },
    {
     "cell_type": "markdown",
     "metadata": {},
     "source": [
      "**IMPORTANT**: A note on **matlab dates and time**"
     ]
    },
    {
     "cell_type": "markdown",
     "metadata": {},
     "source": [
      "Matlab's **datenum** representation is the number of days since midnight on **January 1st, 0 AD.**  Python's datetime handling, (throught the datetime.fromordinal function) assumes time is the number of days since midnight on **January 1st, 1 AD.**  So the duration of year 0 separates the time representation returned by python's fromordinal function and the time representation used by matlab. "
     ]
    },
    {
     "cell_type": "code",
     "collapsed": false,
     "input": [
      "matlab_datenum = 731965.04835648148  "
     ],
     "language": "python",
     "metadata": {},
     "outputs": []
    },
    {
     "cell_type": "markdown",
     "metadata": {},
     "source": [
      "The following snippet is from Conrad Lee at [https://gist.github.com/conradlee/4366296](https://gist.github.com/conradlee/4366296)"
     ]
    },
    {
     "cell_type": "code",
     "collapsed": false,
     "input": [
      "from datetime import datetime, timedelta\n",
      " \n",
      "python_datetime = datetime.fromordinal(int(matlab_datenum)) \\\n",
      "+ timedelta(days=matlab_datenum%1) - timedelta(days = 366) ## year 0 was a leap year"
     ],
     "language": "python",
     "metadata": {},
     "outputs": []
    },
    {
     "cell_type": "code",
     "collapsed": false,
     "input": [
      "python_datetime"
     ],
     "language": "python",
     "metadata": {},
     "outputs": []
    },
    {
     "cell_type": "code",
     "collapsed": false,
     "input": [
      "print(python_datetime)"
     ],
     "language": "python",
     "metadata": {},
     "outputs": []
    },
    {
     "cell_type": "markdown",
     "metadata": {},
     "source": [
      "Another - easiest - way to do it is to use the module [netcdftime](http://netcdf4-python.googlecode.com/svn/trunk/docs/netcdftime.netcdftime-module.html) (installed with anaconda), which has a ```num2date``` function, and to specify the origin, as well as the calendar (ISO 8601 Proleptic Gregorian calendar, which allows for Year 0), you can convert a entire vector (numpy array) of Matlab datenums that way."
     ]
    },
    {
     "cell_type": "code",
     "collapsed": false,
     "input": [
      "from netcdftime import num2date"
     ],
     "language": "python",
     "metadata": {},
     "outputs": []
    },
    {
     "cell_type": "code",
     "collapsed": false,
     "input": [
      "date_proleptic = num2date(matlab_datenum, units='days since 000-01-00 00:00:00', \\\n",
      "                          calendar='proleptic_gregorian')"
     ],
     "language": "python",
     "metadata": {},
     "outputs": []
    },
    {
     "cell_type": "code",
     "collapsed": false,
     "input": [
      "date_proleptic"
     ],
     "language": "python",
     "metadata": {},
     "outputs": []
    },
    {
     "cell_type": "code",
     "collapsed": false,
     "input": [
      "num2date?"
     ],
     "language": "python",
     "metadata": {},
     "outputs": []
    },
    {
     "cell_type": "markdown",
     "metadata": {},
     "source": [
      "### Other file formats\n",
      "\n",
      "**HDF5** \n",
      "\n",
      "Please See [http://www.h5py.org/docs/intro/quick.html](http://www.h5py.org/docs/intro/quick.html)\n",
      "\n",
      "\n",
      "**IDL**: \n",
      "    \n",
      "    from scipy.io import idl\n",
      "    idl.readsav()\n",
      "    \n",
      "**Fortran files**: \n",
      "\n",
      "    from scipy.io import FortranFile\n",
      "    f = FortranFile()\n",
      "    \n",
      "    Examples\n",
      "    --------\n",
      "    To create an unformatted sequential Fortran file:\n",
      "    \n",
      "    >>> from scipy.io import FortranFile\n",
      "    >>> f = FortranFile('test.unf', 'w')\n",
      "    >>> f.write_record(np.array([1,2,3,4,5],dtype=np.int32))\n",
      "    >>> f.write_record(np.linspace(0,1,20).reshape((5,-1)))\n",
      "    >>> f.close()\n",
      "    \n",
      "    To read this file:\n",
      "    \n",
      "    >>> from scipy.io import FortranFile\n",
      "    >>> f = FortranFile('test.unf', 'r')\n",
      "    >>> print(f.read_ints(dtype=np.int32))\n",
      "    [1 2 3 4 5]\n",
      "    >>> print(f.read_reals(dtype=np.float).reshape((5,-1)))\n",
      "    [[ 0.          0.05263158  0.10526316  0.15789474]\n",
      "     [ 0.21052632  0.26315789  0.31578947  0.36842105]\n",
      "     [ 0.42105263  0.47368421  0.52631579  0.57894737]\n",
      "     [ 0.63157895  0.68421053  0.73684211  0.78947368]\n",
      "     [ 0.84210526  0.89473684  0.94736842  1.        ]]\n",
      "    >>> f.close()\n",
      "    "
     ]
    },
    {
     "cell_type": "code",
     "collapsed": false,
     "input": [
      "%load_ext load_style"
     ],
     "language": "python",
     "metadata": {},
     "outputs": [],
     "prompt_number": 45
    },
    {
     "cell_type": "code",
     "collapsed": false,
     "input": [
      "%load_style talk.css"
     ],
     "language": "python",
     "metadata": {},
     "outputs": [
      {
       "html": [
        "<style>\n",
        "\n",
        ".rendered_html {\n",
        "    font-family: \"proxima-nova\", helvetica;\n",
        "    font-size: 130%;\n",
        "    line-height: 1.5;\n",
        "}\n",
        "\n",
        ".rendered_html h1 {\n",
        "    margin: 0.25em 0em 0.5em;\n",
        "    color: #015C9C;\n",
        "    text-align: center;\n",
        "    line-height: 1.2; \n",
        "    page-break-before: always;\n",
        "}\n",
        "\n",
        ".rendered_html h2 {\n",
        "    margin: 1.1em 0em 0.5em;\n",
        "    color: #26465D;\n",
        "    line-height: 1.2;\n",
        "}\n",
        "\n",
        ".rendered_html h3 {\n",
        "    margin: 1.1em 0em 0.5em;\n",
        "    color: #002845;\n",
        "    line-height: 1.2;\n",
        "}\n",
        "\n",
        ".rendered_html li {\n",
        "    line-height: 1.5; \n",
        "}\n",
        "\n",
        "/*.prompt {\n",
        "    font-size: 120%; \n",
        "}*/\n",
        "\n",
        ".CodeMirror-lines {\n",
        "    font-size: 110%; \n",
        "}\n",
        "\n",
        "/*.output_area {\n",
        "    font-size: 120%; \n",
        "}*/\n",
        "\n",
        "/*#notebook {\n",
        "    background-image: url('files/images/witewall_3.png');\n",
        "}*/\n",
        "\n",
        "h1.bigtitle {\n",
        "    margin: 4cm 1cm 4cm 1cm;\n",
        "    font-size: 300%;\n",
        "}\n",
        "\n",
        "h3.point {\n",
        "    font-size: 200%;\n",
        "    text-align: center;\n",
        "    margin: 2em 0em 2em 0em;\n",
        "    #26465D\n",
        "}\n",
        "\n",
        ".logo {\n",
        "    margin: 20px 0 20px 0;\n",
        "}\n",
        "\n",
        "a.anchor-link {\n",
        "    display: none;\n",
        "}\n",
        "\n",
        "h1.title { \n",
        "    font-size: 250%;\n",
        "}\n",
        "\n",
        "</style>"
       ],
       "metadata": {},
       "output_type": "display_data",
       "text": [
        "<IPython.core.display.HTML at 0x10fb01a10>"
       ]
      }
     ],
     "prompt_number": 46
    }
   ],
   "metadata": {}
  }
 ]
}